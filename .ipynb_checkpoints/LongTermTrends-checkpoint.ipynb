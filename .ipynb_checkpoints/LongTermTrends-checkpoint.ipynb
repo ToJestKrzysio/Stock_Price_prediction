{
 "cells": [
  {
   "cell_type": "markdown",
   "id": "canadian-clarity",
   "metadata": {},
   "source": [
    "## This block is used for initial setup"
   ]
  },
  {
   "cell_type": "code",
   "execution_count": 107,
   "id": "excessive-method",
   "metadata": {},
   "outputs": [
    {
     "name": "stdout",
     "output_type": "stream",
     "text": [
      "1 Physical GPUs, 1 Logical GPUs\n"
     ]
    }
   ],
   "source": [
    "import os\n",
    "import math\n",
    "import tqdm\n",
    "import datetime\n",
    "import numpy as np\n",
    "import pandas as pd\n",
    "import tensorflow as tf\n",
    "\n",
    "gpus = tf.config.list_physical_devices('GPU')\n",
    "if gpus:\n",
    "  # Restrict TensorFlow to only allocate 1GB of memory on the first GPU\n",
    "  try:\n",
    "    tf.config.experimental.set_virtual_device_configuration(\n",
    "        gpus[0],\n",
    "        [tf.config.experimental.VirtualDeviceConfiguration(memory_limit=5120)])\n",
    "    logical_gpus = tf.config.experimental.list_logical_devices('GPU')\n",
    "    print(len(gpus), \"Physical GPUs,\", len(logical_gpus), \"Logical GPUs\")\n",
    "  except RuntimeError as e:\n",
    "    # Virtual devices must be set before GPUs have been initialized\n",
    "    print(e)\n",
    "\n",
    "MODELS_DIR = \"C:/Users/qxem1/Computational_Intelligence/Stock Analisis/Models\"\n",
    "\n",
    "def next_free_model_name(base_name: str) -> str:\n",
    "    model_files = [name for name in os.listdir(MODELS_DIR) if name.split(\".\")[-1].lower() == \"h5\"]\n",
    "    similar_models_numbers = [int(name.split(\"_\")[-1].split(\".\")[0]) for name in model_files if name.find(base_name) >= 0]\n",
    "    \n",
    "    if len(similar_models_numbers) > 0:\n",
    "        max_value = str(max(similar_models_numbers)+1).zfill(3)\n",
    "        new_name = base_name + \"_\" + max_value\n",
    "    else:\n",
    "        new_name = base_name + \"_000\"\n",
    "    return new_name\n",
    "\n",
    "def standarize_stock_price_change(data: pd.DataFrame):\n",
    "    price_array = data.to_numpy()\n",
    "    percentage_array = np.zeros(price_array.shape, dtype=float)\n",
    "    for index, row in enumerate(price_array[1:,]):\n",
    "        percentage_array[index+1] = row / price_array[index] - 1\n",
    "    try:\n",
    "        standarized_data = pd.DataFrame(percentage_array, columns=data.columns)\n",
    "    except AttributeError:\n",
    "        standarized_data = pd.DataFrame(percentage_array)\n",
    "    return standarized_data\n",
    "\n",
    "\n",
    "def generate_IO_sequences(data: pd.DataFrame, sample_size=30, predicted_sequence=1, predicted_values=(0,1)):\n",
    "    price_array = data.to_numpy()\n",
    "    input_sequences = np.zeros((data.shape[0]-sample_size-predicted_sequence, sample_size, data.shape[1]), dtype=float)\n",
    "    for index in range(input_sequences.shape[0]):\n",
    "        input_sequences[index] = price_array[index : index+sample_size,:]\n",
    "    output_sequences = generate_sequence_output(price_array, input_shape=input_sequences.shape,\n",
    "                                                predicted_values=predicted_values)\n",
    "    return (input_sequences, output_sequences)\n",
    "\n",
    "\n",
    "def generate_sequence_output(data: np.ndarray, input_shape: tuple, predicted_values = (0,1)):\n",
    "    assert len(input_shape) == 3, \"Input size incompatible\"\n",
    "    output_sequence = np.zeros((input_shape[0], input_shape[2]), dtype=float)\n",
    "    for index in range(output_sequence.shape[0]):\n",
    "        output_sequence[index, :] = data[input_shape[1]+1, :]              \n",
    "    return output_sequence[:, predicted_values[0]:predicted_values[1]]\n",
    "\n",
    "\n",
    "def infinite_iterator(data: list or tuple or str) -> list or tuple or char or str:\n",
    "    while True:\n",
    "        for item in data:\n",
    "            yield item\n",
    "\n",
    "            \n",
    "def lineplot_comparasion(data: np.ndarray or list, indexes=(0,) , colors=(\"b\", \"g\", \"r\", \"c\"), linewidth=1):\n",
    "    if type(data == list):\n",
    "        data = np.transpose(np.array(data, ndmin=2))\n",
    "    assert len(data.shape) == 2 or 1, \"Data array has to be 2 dimensional\"\n",
    "    X = np.arange(data.shape[0])\n",
    "    print(data.shape)\n",
    "    fig = plt.figure()\n",
    "    color_generator = infinite_iterator(colors)\n",
    "    marker_generator = infinite_iterator(markers)\n",
    "    linewidth_generator = infinite_iterator(linewidths)\n",
    "    markersize_generator = infinite_iterator(markersizes)\n",
    "    ax = fig.add_subplot()\n",
    "    for index in indexes:\n",
    "        ax.plot(X, data[:, index], color=next(color_generator), linewidth=linewidth)\n",
    "    plt.show() "
   ]
  },
  {
   "cell_type": "code",
   "execution_count": 61,
   "id": "aging-beijing",
   "metadata": {},
   "outputs": [],
   "source": [
    "def generate_input_sequences(data: pd.DataFrame, input_length=30, output_length=1) -> np.ndarray:\n",
    "    price_array = data.to_numpy()\n",
    "    input_sequences = np.zeros((price_array.shape[0] - input_length - output_length,\n",
    "                                input_length, price_array.shape[1]), dtype=float)\n",
    "    for index in range(input_sequences.shape[0]):\n",
    "        input_sequences[index] = price_array[index:index+input_length, :]\n",
    "    return input_sequences\n",
    "\n",
    "def generate_output_sequences(data: pd.DataFrame, outputs: list, input_length=30, output_length=1) -> np.ndarray:\n",
    "    selected_dataframe = data[outputs]\n",
    "    price_array = selected_dataframe.to_numpy()\n",
    "    if output_length == 1:\n",
    "        output_sequences = np.zeros((price_array.shape[0] - input_length - output_length,\n",
    "                                     price_array.shape[1]), dtype=float)\n",
    "        for index in range(output_sequences.shape[0]):\n",
    "            output_sequences[index] = price_array[index+input_length : index+input_length+output_length, :] \n",
    "    else:\n",
    "        output_sequences = np.zeros((price_array.shape[0] - input_length - output_length,\n",
    "                                     output_length, price_array.shape[1]), dtype=float)\n",
    "        for index in range(output_sequences.shape[0]):\n",
    "            output_sequences[index] = price_array[index+input_length : index+input_length+output_length, :]\n",
    "    return output_sequences"
   ]
  },
  {
   "cell_type": "markdown",
   "id": "conscious-species",
   "metadata": {},
   "source": [
    "----\n",
    "# Selected stock\n",
    "To maximize amout of data obtained Microsoft Inc. historic data was used."
   ]
  },
  {
   "cell_type": "code",
   "execution_count": 5,
   "id": "auburn-basis",
   "metadata": {},
   "outputs": [
    {
     "name": "stdout",
     "output_type": "stream",
     "text": [
      "[*********************100%***********************]  1 of 1 completed\n"
     ]
    },
    {
     "data": {
      "text/plain": [
       "<AxesSubplot:xlabel='Date'>"
      ]
     },
     "execution_count": 5,
     "metadata": {},
     "output_type": "execute_result"
    },
    {
     "data": {
      "image/png": "[encoded data removed]",
      "text/plain": [
       "<Figure size 1080x504 with 1 Axes>"
      ]
     },
     "metadata": {
      "needs_background": "light"
     },
     "output_type": "display_data"
    }
   ],
   "source": [
    "import pandas as pd\n",
    "import yfinance as yf\n",
    "import matplotlib.pyplot as plt\n",
    "\n",
    "# Selected stock name from yahoo finance\n",
    "stock = [\"MSFT\"]\n",
    "\n",
    "# Obtain yahoo finance data\n",
    "history = yf.download(tickers=stock, period=\"max\")\n",
    "\n",
    "# Divide data into sub-sets, stock volume is usally thousands of time higger than stock price\n",
    "history_stock_prices = history[[\"Open\", \"High\", \"Low\", \"Close\"]]\n",
    "history_stock_volume = history[\"Volume\"]\n",
    "\n",
    "plt.rcParams[\"figure.figsize\"] = (15,7)\n",
    "# Show part of price plot\n",
    "history_stock_prices[[\"Open\", \"Close\"]][-200:].plot()"
   ]
  },
  {
   "cell_type": "markdown",
   "id": "nuclear-catering",
   "metadata": {},
   "source": [
    "# Initial remarks\n",
    "> In stated case I'll be working with sequential data.  \n",
    "> To simplify problem in case regresion model will not reach desired accuracy, change of price may be classied binary, as increase and decrease."
   ]
  },
  {
   "cell_type": "code",
   "execution_count": 62,
   "id": "partial-protocol",
   "metadata": {},
   "outputs": [],
   "source": [
    "from sklearn.model_selection import train_test_split\n",
    "# Change of the price in percent\n",
    "history_price_percentage_change = standarize_stock_price_change(history_stock_prices)\n",
    "\n",
    "# Data sequences for input and output\n",
    "sample_size = 30\n",
    "predicted_values = [\"Close\"]\n",
    "input_data = generate_input_sequences(data=history_price_percentage_change, input_length=sample_size)\n",
    "output_data = generate_output_sequences(data=history_price_percentage_change, \n",
    "                                        outputs=predicted_values, input_length=sample_size)\n",
    "\n",
    "x_train, x_test, y_train, y_test = train_test_split(input_data, output_data, test_size=0.1)"
   ]
  },
  {
   "cell_type": "markdown",
   "id": "proud-arrow",
   "metadata": {},
   "source": [
    "# First model"
   ]
  },
  {
   "cell_type": "code",
   "execution_count": 71,
   "id": "material-valuable",
   "metadata": {},
   "outputs": [],
   "source": [
    "batch_size = 500\n",
    "epochs = 20"
   ]
  },
  {
   "cell_type": "code",
   "execution_count": 90,
   "id": "beautiful-wichita",
   "metadata": {
    "scrolled": true
   },
   "outputs": [
    {
     "name": "stdout",
     "output_type": "stream",
     "text": [
      "Model: \"sequential_7\"\n",
      "_________________________________________________________________\n",
      "Layer (type)                 Output Shape              Param #   \n",
      "=================================================================\n",
      "LSTM_1 (LSTM)                (None, 30, 25)            3000      \n",
      "_________________________________________________________________\n",
      "LSTM_2 (LSTM)                (None, 30, 50)            15200     \n",
      "_________________________________________________________________\n",
      "Dropout_1 (Dropout)          (None, 30, 50)            0         \n",
      "_________________________________________________________________\n",
      "LSTM_3 (LSTM)                (None, 100)               60400     \n",
      "_________________________________________________________________\n",
      "Dropout_2 (Dropout)          (None, 100)               0         \n",
      "_________________________________________________________________\n",
      "Dense_1 (Dense)              (None, 200)               20200     \n",
      "_________________________________________________________________\n",
      "Dense_2 (Dense)              (None, 400)               80400     \n",
      "_________________________________________________________________\n",
      "Dropout_3 (Dropout)          (None, 400)               0         \n",
      "_________________________________________________________________\n",
      "Dense_3 (Dense)              (None, 50)                20050     \n",
      "_________________________________________________________________\n",
      "classifier (Dense)           (None, 1)                 51        \n",
      "=================================================================\n",
      "Total params: 199,301\n",
      "Trainable params: 199,301\n",
      "Non-trainable params: 0\n",
      "_________________________________________________________________\n",
      "Epoch 1/20\n",
      "7948/7948 [==============================] - 3s 359us/step - loss: 28860.8290\n",
      "Epoch 2/20\n",
      "7948/7948 [==============================] - 2s 265us/step - loss: 3828.8037\n",
      "Epoch 3/20\n",
      "7948/7948 [==============================] - 2s 263us/step - loss: 4613.8610\n",
      "Epoch 4/20\n",
      "7948/7948 [==============================] - 2s 254us/step - loss: 2449.0810\n",
      "Epoch 5/20\n",
      "7948/7948 [==============================] - 2s 263us/step - loss: 3748.7456\n",
      "Epoch 6/20\n",
      "7948/7948 [==============================] - 2s 277us/step - loss: 7417.8400\n",
      "Epoch 7/20\n",
      "7948/7948 [==============================] - 2s 261us/step - loss: 13089.4743\n",
      "Epoch 8/20\n",
      "7948/7948 [==============================] - 2s 257us/step - loss: 7417.2292\n",
      "Epoch 9/20\n",
      "7948/7948 [==============================] - 2s 256us/step - loss: 9248.3460\n",
      "Epoch 10/20\n",
      "7948/7948 [==============================] - 2s 258us/step - loss: 7693.7866\n",
      "Epoch 11/20\n",
      "7948/7948 [==============================] - 2s 267us/step - loss: 6388.6218\n",
      "Epoch 12/20\n",
      "7948/7948 [==============================] - 2s 253us/step - loss: 4428.9419\n",
      "Epoch 13/20\n",
      "7948/7948 [==============================] - 2s 250us/step - loss: 2387.0829\n",
      "Epoch 14/20\n",
      "7948/7948 [==============================] - 2s 248us/step - loss: 4372.2923\n",
      "Epoch 15/20\n",
      "7948/7948 [==============================] - 2s 248us/step - loss: 3311.1456\n",
      "Epoch 16/20\n",
      "7948/7948 [==============================] - 2s 248us/step - loss: 2452.7958\n",
      "Epoch 17/20\n",
      "7948/7948 [==============================] - 2s 244us/step - loss: 3704.8955\n",
      "Epoch 18/20\n",
      "7948/7948 [==============================] - 2s 246us/step - loss: 4707.1204\n",
      "Epoch 19/20\n",
      "7948/7948 [==============================] - 2s 274us/step - loss: 5121.2427\n",
      "Epoch 20/20\n",
      "7948/7948 [==============================] - 2s 260us/step - loss: 3286.3527\n"
     ]
    }
   ],
   "source": [
    "import keras\n",
    "from keras import models\n",
    "from keras import layers\n",
    "from keras import metrics\n",
    "\n",
    "model_name = \"triple_LSTM\"\n",
    "\n",
    "model = models.Sequential(name=model_name)\n",
    "\n",
    "model.add(layers.LSTM(units=25, activation=\"relu\", return_sequences=True, name=\"LSTM_1\",\n",
    "                      input_shape=(x_train.shape[1], x_train.shape[2])))\n",
    "\n",
    "model.add(layers.LSTM(units=50, activation=\"relu\", return_sequences=True, name=\"LSTM_2\"))\n",
    "model.add(layers.Dropout(0.1, name=\"Dropout_1\"))\n",
    "\n",
    "model.add(layers.LSTM(units=100, activation=\"relu\", name=\"LSTM_3\"))\n",
    "model.add(layers.Dropout(0.15, name=\"Dropout_2\"))\n",
    "\n",
    "model.add(layers.Dense(units=200, activation=\"relu\", name=\"Dense_1\"))\n",
    "\n",
    "model.add(layers.Dense(units=400, activation=\"relu\", name=\"Dense_2\"))\n",
    "model.add(layers.Dropout(0.25, name=\"Dropout_3\"))\n",
    "\n",
    "model.add(layers.Dense(units=50, activation=\"relu\", name=\"Dense_3\"))\n",
    "\n",
    "model.add(layers.Dense(1, activation=\"linear\", name=\"classifier\"))\n",
    "\n",
    "model.compile(optimizer=\"Adam\", loss=\"mean_absolute_percentage_error\", metrics=[])\n",
    "model.summary()\n",
    "\n",
    "history = model.fit(x_train, y_train, batch_size=batch_size, epochs=epochs)\n",
    "\n",
    "model_save_name = next_free_model_name(model_name)\n",
    "model_save_path = MODELS_DIR + \"/\" + model_save_name + \".h5\"\n",
    "model.save(model_save_path)\n",
    "\n",
    "history_save_path = MODELS_DIR + \"/\" + model_save_name + \".csv\"\n",
    "history_dataframe = pd.DataFrame(history.history)\n",
    "history_dataframe.to_csv(history_save_path)"
   ]
  },
  {
   "cell_type": "code",
   "execution_count": 112,
   "id": "subtle-estonia",
   "metadata": {},
   "outputs": [],
   "source": [
    "model_save_name = next_free_model_name(model_name)\n",
    "history_save_path = MODELS_DIR + \"/\" + model_save_name + \".csv\"\n",
    "history_save_path\n",
    "history_dataframe = pd.DataFrame(history.history)\n",
    "history_dataframe.to_csv(history_save_path)"
   ]
  },
  {
   "cell_type": "code",
   "execution_count": 94,
   "id": "imported-filter",
   "metadata": {
    "scrolled": true
   },
   "outputs": [
    {
     "name": "stdout",
     "output_type": "stream",
     "text": [
      "Model: \"sequential_7\"\n",
      "_________________________________________________________________\n",
      "Layer (type)                 Output Shape              Param #   \n",
      "=================================================================\n",
      "LSTM_1 (LSTM)                (None, 30, 25)            3000      \n",
      "_________________________________________________________________\n",
      "LSTM_2 (LSTM)                (None, 30, 50)            15200     \n",
      "_________________________________________________________________\n",
      "Dropout_1 (Dropout)          (None, 30, 50)            0         \n",
      "_________________________________________________________________\n",
      "LSTM_3 (LSTM)                (None, 100)               60400     \n",
      "_________________________________________________________________\n",
      "Dropout_2 (Dropout)          (None, 100)               0         \n",
      "_________________________________________________________________\n",
      "Dense_1 (Dense)              (None, 200)               20200     \n",
      "_________________________________________________________________\n",
      "Dense_2 (Dense)              (None, 400)               80400     \n",
      "_________________________________________________________________\n",
      "Dropout_3 (Dropout)          (None, 400)               0         \n",
      "_________________________________________________________________\n",
      "Dense_3 (Dense)              (None, 50)                20050     \n",
      "_________________________________________________________________\n",
      "classifier (Dense)           (None, 1)                 51        \n",
      "=================================================================\n",
      "Total params: 199,301\n",
      "Trainable params: 199,301\n",
      "Non-trainable params: 0\n",
      "_________________________________________________________________\n"
     ]
    }
   ],
   "source": [
    "model1 = keras.models.load_model(save_path)\n",
    "model1.summary()"
   ]
  }
 ],
 "metadata": {
  "kernelspec": {
   "display_name": "Python 3",
   "language": "python",
   "name": "python3"
  },
  "language_info": {
   "codemirror_mode": {
    "name": "ipython",
    "version": 3
   },
   "file_extension": ".py",
   "mimetype": "text/x-python",
   "name": "python",
   "nbconvert_exporter": "python",
   "pygments_lexer": "ipython3",
   "version": "3.8.8"
  }
 },
 "nbformat": 4,
 "nbformat_minor": 5
}
