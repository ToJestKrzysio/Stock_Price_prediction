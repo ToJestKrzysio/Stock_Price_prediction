{
 "cells": [
  {
   "cell_type": "markdown",
   "id": "e664cb77",
   "metadata": {},
   "source": [
    "# TO DO:\n",
    "* ~~data download function~~ (yf limits donloaded data to 10000 samples at once)\n",
    "* saving of collected data to file to work on the same dataset for most of the time (1 minute data is stored for only 30 days)\n",
    "* data standarization\n",
    "* parsing of datasets for different companies to generalize over data much better\n",
    "* \n",
    "\n",
    "## Prediction of short time trends of stock market"
   ]
  },
  {
   "cell_type": "code",
   "execution_count": 157,
   "id": "5389c167",
   "metadata": {},
   "outputs": [],
   "source": [
    "import math\n",
    "import tqdm\n",
    "import datetime\n",
    "import numpy as np\n",
    "import pandas as pd\n",
    "\n",
    "def download_yf_data(tickers=\"TSLA\", start=\"2020-01-01\", end=\"2020-01-06\", interval=\"1d\"):\n",
    "    \n",
    "    MAX_SAMPLES = 5000\n",
    "    \n",
    "    minutes = 0\n",
    "    hours = 0\n",
    "    days = 0\n",
    "    if interval[-1] == \"m\":\n",
    "        minutes = int(interval[:-1])\n",
    "    elif interval[-1] == \"h\":\n",
    "        hours = int(interval[:-1])\n",
    "    elif interval[-1] == \"d\":\n",
    "        days = int(interval[:-1])\n",
    "    else:\n",
    "        raise AttributeError(\"Unknown time interval\")\n",
    "    datetime_interval = datetime.timedelta(days=days, hours=hours, minutes=minutes)\n",
    "    \n",
    "    start_time = datetime.datetime.strptime(start, \"%Y-%m-%d\")\n",
    "    end_time = datetime.datetime.strptime(end, \"%Y-%m-%d\")\n",
    "    assert (end_time > start_time), \"End time is less or equal to start time\"\n",
    "    \n",
    "    download_period = end_time - start_time\n",
    "    number_of_download_samples = int(download_period / datetime_interval)\n",
    "    \n",
    "    download_samples = list(range(0, number_of_download_samples, MAX_SAMPLES))\n",
    "    if download_samples[-1] != number_of_download_samples:\n",
    "        download_samples.append(number_of_download_samples)\n",
    "\n",
    "    \n",
    "    download_sequences = [(download_samples[index], value) for index, value in enumerate(download_samples[1:])]\n",
    "    download_sequences_datetime = [(start_time + start * datetime_interval, start_time + end * datetime_interval) \\\n",
    "                                for start, end in download_sequences]\n",
    "    \n",
    "    complete_dataframe = yf.download(tickers, start=download_sequences_datetime[0][0], \n",
    "                                      end=download_sequences_datetime[0][1], interval=interval)\n",
    "    for start, end in download_sequences_datetime[1:]:\n",
    "        sample_dataframe = yf.download(tickers, start=start, end=end, interval=interval)\n",
    "        complete_dataframe = complete_dataframe.append(sample_dataframe)\n",
    "    \n",
    "    return complete_dataframe\n",
    "\n",
    "\n",
    "def standarize_stock_price_change(data: pd.DataFrame):\n",
    "    price_array = data.to_numpy()\n",
    "    percentage_array = np.zeros(price_array.shape, dtype=float)\n",
    "    for index, row in enumerate(price_array[1:,]):\n",
    "        percentage_array[index+1] = row / price_array[index] - 1\n",
    "    \n",
    "    try:\n",
    "        standarized_data = pd.DataFrame(percentage_array, columns=data.columns)\n",
    "    except AttributeError:\n",
    "        standarized_data = pd.DataFrame(percentage_array)\n",
    "        \n",
    "    return standarized_data\n",
    "\n",
    "def generate_IO_sequences(data: pd.DataFrame, sample_size=30, predicted_values=1):\n",
    "    price_array = data.to_numpy()\n",
    "    \n",
    "    input_sequences = np.zeros((data.shape[0]-sample_size-predicted_values, sample_size, data.shape[1]), dtype=float)\n",
    "    for index in range(input_sequences.shape[0]):\n",
    "        input_sequences[index] = price_array[index : index+sample_size,:]\n",
    "        \n",
    "    output_sequences = generate_sequence_output(price_array, input_shape=input_sequences.shape)\n",
    "    \n",
    "    return (input_sequences, output_sequences)\n",
    "\n",
    "\n",
    "def generate_sequence_output(data: np.ndarray, input_shape: tuple):\n",
    "    \n",
    "    assert len(input_shape) == 3, \"Input size incompatible\"\n",
    "    \n",
    "    output_sequence = np.zeros((input_shape[0], input_shape[2]), dtype=float)\n",
    "    for index in range(output_sequence.shape[0]):\n",
    "        output_sequence[index, :] = data[input_shape[1]+1, :]\n",
    "        \n",
    "    return output_sequence\n",
    "\n",
    "\n",
    "def infinite_iterator(data: list or tuple or str) -> list or tuple or char or str:\n",
    "    \"\"\"\n",
    "    Iterates indefinetly over a given list\n",
    "    \n",
    "    :param data: list, tuple or string of values to be iterated over\n",
    "    :return: single item taken out of data\n",
    "    \"\"\"\n",
    "    while True:\n",
    "        for item in data:\n",
    "            yield item\n",
    "\n",
    "            \n",
    "def plot_comparasion(data: np.ndarray or list, indexes=(0,), markers=[None,], colors=(\"b\", \"g\", \"r\", \"c\"),\n",
    "                     linewidths=[1,], markersizes=[15,]):\n",
    "    \n",
    "    if type(data == list):\n",
    "        data = np.transpose(np.array(data, ndmin=2))\n",
    "    assert len(data.shape) == 2 or 1, \"Data array has to be 2 dimensional\"\n",
    "    \n",
    "    X = np.arange(data.shape[0])\n",
    "    print(data.shape)\n",
    "    fig = plt.figure()\n",
    "    color_generator = infinite_iterator(colors)\n",
    "    marker_generator = infinite_iterator(markers)\n",
    "    linewidth_generator = infinite_iterator(linewidths)\n",
    "    markersize_generator = infinite_iterator(markersizes)\n",
    "    ax = fig.add_subplot()\n",
    "    \n",
    "    for index in indexes:\n",
    "        display_style = next(color_generator)\n",
    "        temp_marker = next(marker_generator)\n",
    "        if temp_marker:\n",
    "            display_style += temp_marker\n",
    "        ax.plot(X, data[:, index], display_style, linewidth=next(linewidth_generator), \n",
    "                markersize=next(markersize_generator))\n",
    "    \n",
    "    plt.show() "
   ]
  },
  {
   "cell_type": "code",
   "execution_count": 2,
   "id": "romantic-calvin",
   "metadata": {
    "scrolled": false
   },
   "outputs": [
    {
     "name": "stdout",
     "output_type": "stream",
     "text": [
      "[*********************100%***********************]  1 of 1 completed\n",
      "\n",
      "1 Failed download:\n",
      "- TSLA: 1m data not available for startTime=1617832800 and endTime=1618132800. The requested range must be within the last 30 days.\n",
      "[*********************100%***********************]  1 of 1 completed\n",
      "[*********************100%***********************]  1 of 1 completed\n",
      "[*********************100%***********************]  1 of 1 completed\n",
      "[*********************100%***********************]  1 of 1 completed\n",
      "[*********************100%***********************]  1 of 1 completed\n",
      "[*********************100%***********************]  1 of 1 completed\n",
      "[*********************100%***********************]  1 of 1 completed\n",
      "[*********************100%***********************]  1 of 1 completed\n"
     ]
    },
    {
     "data": {
      "text/html": [
       "<div>\n",
       "<style scoped>\n",
       "    .dataframe tbody tr th:only-of-type {\n",
       "        vertical-align: middle;\n",
       "    }\n",
       "\n",
       "    .dataframe tbody tr th {\n",
       "        vertical-align: top;\n",
       "    }\n",
       "\n",
       "    .dataframe thead th {\n",
       "        text-align: right;\n",
       "    }\n",
       "</style>\n",
       "<table border=\"1\" class=\"dataframe\">\n",
       "  <thead>\n",
       "    <tr style=\"text-align: right;\">\n",
       "      <th></th>\n",
       "      <th>Close</th>\n",
       "    </tr>\n",
       "  </thead>\n",
       "  <tbody>\n",
       "    <tr>\n",
       "      <th>2021-04-12 09:30:00-04:00</th>\n",
       "      <td>685.679993</td>\n",
       "    </tr>\n",
       "    <tr>\n",
       "      <th>2021-04-12 09:31:00-04:00</th>\n",
       "      <td>685.500000</td>\n",
       "    </tr>\n",
       "    <tr>\n",
       "      <th>2021-04-12 09:32:00-04:00</th>\n",
       "      <td>686.455017</td>\n",
       "    </tr>\n",
       "    <tr>\n",
       "      <th>2021-04-12 09:33:00-04:00</th>\n",
       "      <td>685.565002</td>\n",
       "    </tr>\n",
       "    <tr>\n",
       "      <th>2021-04-12 09:34:00-04:00</th>\n",
       "      <td>683.715027</td>\n",
       "    </tr>\n",
       "  </tbody>\n",
       "</table>\n",
       "</div>"
      ],
      "text/plain": [
       "                                Close\n",
       "2021-04-12 09:30:00-04:00  685.679993\n",
       "2021-04-12 09:31:00-04:00  685.500000\n",
       "2021-04-12 09:32:00-04:00  686.455017\n",
       "2021-04-12 09:33:00-04:00  685.565002\n",
       "2021-04-12 09:34:00-04:00  683.715027"
      ]
     },
     "execution_count": 2,
     "metadata": {},
     "output_type": "execute_result"
    },
    {
     "data": {
      "image/png": "[encoded data removed]",
      "text/plain": [
       "<Figure size 1080x504 with 1 Axes>"
      ]
     },
     "metadata": {
      "needs_background": "light"
     },
     "output_type": "display_data"
    }
   ],
   "source": [
    "import numpy as np\n",
    "import pandas as pd\n",
    "import yfinance as yf\n",
    "import matplotlib.pyplot as plt\n",
    "\n",
    "selected_stock = yf.Ticker(\"TSLA\")\n",
    "stock_history_dataframe = download_yf_data(start=\"2021-04-08\", end=\"2021-05-06\", interval=\"1m\")\n",
    "\n",
    "stock_history_price_keys = [\"Close\"] #[\"Open\", \"High\", \"Low\", \"Close\"]\n",
    "stock_history_prices = stock_history_dataframe[stock_history_price_keys]\n",
    "\n",
    "plt.rcParams[\"figure.figsize\"] = (15,7)\n",
    "stock_history_prices.plot()\n",
    "\n",
    "stock_history_prices.head()"
   ]
  },
  {
   "cell_type": "markdown",
   "id": "62da05bc",
   "metadata": {},
   "source": [
    "# Data preparation\n",
    "Percentage growth of stock price was used to increase versitality, bacause stocks in long term don't have upper value bound.  \n",
    "Additionaly it's extremely unlikely that widly know stock will rise more than a 100% in a day, so this method allowed to quickly obtain values within range (-1,1)."
   ]
  },
  {
   "cell_type": "code",
   "execution_count": null,
   "id": "4163fa96",
   "metadata": {},
   "outputs": [],
   "source": [
    "pd.set_option('display.float_format', '{:0.4f}'.format)\n",
    "stock_history_percentage = standarize_stock_price_change(stock_history_prices)\n",
    "input_sequences, output_sequences = generate_IO_sequences(stock_history_percentage, sample_size=30)\n",
    "stock_history_percentage.head()"
   ]
  },
  {
   "cell_type": "code",
   "execution_count": 135,
   "id": "floral-seeking",
   "metadata": {
    "scrolled": true
   },
   "outputs": [
    {
     "name": "stdout",
     "output_type": "stream",
     "text": [
      "Model: \"sequential_1\"\n",
      "_________________________________________________________________\n",
      "Layer (type)                 Output Shape              Param #   \n",
      "=================================================================\n",
      "LSTM_1 (LSTM)                (None, 30, 25)            2700      \n",
      "_________________________________________________________________\n",
      "LSTM_2 (LSTM)                (None, 50)                15200     \n",
      "_________________________________________________________________\n",
      "Dropout_1 (Dropout)          (None, 50)                0         \n",
      "_________________________________________________________________\n",
      "Dense_1 (Dense)              (None, 100)               5100      \n",
      "_________________________________________________________________\n",
      "Dense_2 (Dense)              (None, 200)               20200     \n",
      "_________________________________________________________________\n",
      "Dropout_2 (Dropout)          (None, 200)               0         \n",
      "_________________________________________________________________\n",
      "Dense_3 (Dense)              (None, 50)                10050     \n",
      "_________________________________________________________________\n",
      "classifier (Dense)           (None, 1)                 51        \n",
      "=================================================================\n",
      "Total params: 53,301\n",
      "Trainable params: 53,301\n",
      "Non-trainable params: 0\n",
      "_________________________________________________________________\n"
     ]
    }
   ],
   "source": [
    "import keras\n",
    "from keras import models\n",
    "from keras import layers\n",
    "from keras import metrics\n",
    "\n",
    "model = models.Sequential()\n",
    "model.add(layers.LSTM(units=25, activation=\"relu\", return_sequences=True, input_shape=(input_sequences.shape[1], 1), name=\"LSTM_1\"))\n",
    "model.add(layers.LSTM(units=50, activation=\"relu\", name=\"LSTM_2\"))\n",
    "model.add(layers.Dropout(0.1, name=\"Dropout_1\"))\n",
    "model.add(layers.Dense(units=100, activation=\"relu\", name=\"Dense_1\"))\n",
    "model.add(layers.Dense(units=200, activation=\"relu\", name=\"Dense_2\"))\n",
    "model.add(layers.Dropout(0.2, name=\"Dropout_2\"))\n",
    "model.add(layers.Dense(units=50, activation=\"relu\", name=\"Dense_3\"))\n",
    "# model.add(layers.Dropout(0.15, name=\"Dropout_3\"))\n",
    "# model.add(layers.Dense(units=32, activation=\"relu\", name=\"Dense_4\"))\n",
    "model.add(layers.Dense(1, activation=\"linear\", name=\"classifier\"))\n",
    "\n",
    "model.compile(optimizer=\"Adam\", loss=\"mean_absolute_percentage_error\")\n",
    "model.summary()"
   ]
  },
  {
   "cell_type": "code",
   "execution_count": 137,
   "id": "maritime-cherry",
   "metadata": {
    "scrolled": true
   },
   "outputs": [
    {
     "name": "stdout",
     "output_type": "stream",
     "text": [
      "Epoch 1/20\n",
      "117/117 [==============================] - 4s 14ms/step - loss: 66.4509\n",
      "Epoch 2/20\n",
      "117/117 [==============================] - 2s 14ms/step - loss: 16.1793\n",
      "Epoch 3/20\n",
      "117/117 [==============================] - 2s 14ms/step - loss: 7.9847\n",
      "Epoch 4/20\n",
      "117/117 [==============================] - 2s 14ms/step - loss: 11.3421\n",
      "Epoch 5/20\n",
      "117/117 [==============================] - 2s 14ms/step - loss: 10.8840\n",
      "Epoch 6/20\n",
      "117/117 [==============================] - 2s 14ms/step - loss: 9.8425\n",
      "Epoch 7/20\n",
      "117/117 [==============================] - 2s 14ms/step - loss: 9.5988\n",
      "Epoch 8/20\n",
      "117/117 [==============================] - 2s 14ms/step - loss: 10.2856\n",
      "Epoch 9/20\n",
      "117/117 [==============================] - 2s 14ms/step - loss: 10.5554\n",
      "Epoch 10/20\n",
      "117/117 [==============================] - 2s 14ms/step - loss: 11.3881\n",
      "Epoch 11/20\n",
      "117/117 [==============================] - 2s 14ms/step - loss: 10.5191\n",
      "Epoch 12/20\n",
      "117/117 [==============================] - 2s 14ms/step - loss: 9.7175\n",
      "Epoch 13/20\n",
      "117/117 [==============================] - 2s 14ms/step - loss: 9.2092\n",
      "Epoch 14/20\n",
      "117/117 [==============================] - 2s 14ms/step - loss: 8.9786\n",
      "Epoch 15/20\n",
      "117/117 [==============================] - 2s 14ms/step - loss: 10.5833\n",
      "Epoch 16/20\n",
      "117/117 [==============================] - 2s 14ms/step - loss: 10.6267\n",
      "Epoch 17/20\n",
      "117/117 [==============================] - 2s 14ms/step - loss: 10.5908\n",
      "Epoch 18/20\n",
      "117/117 [==============================] - 2s 16ms/step - loss: 10.1006\n",
      "Epoch 19/20\n",
      "117/117 [==============================] - 2s 14ms/step - loss: 9.3123\n",
      "Epoch 20/20\n",
      "117/117 [==============================] - 2s 14ms/step - loss: 9.0757\n"
     ]
    }
   ],
   "source": [
    "history = model.fit(input_sequences, output_sequences, batch_size=60, epochs=20)"
   ]
  },
  {
   "cell_type": "code",
   "execution_count": 158,
   "id": "environmental-germany",
   "metadata": {
    "scrolled": false
   },
   "outputs": [
    {
     "name": "stdout",
     "output_type": "stream",
     "text": [
      "(20, 2)\n"
     ]
    },
    {
     "data": {
      "image/png": "[encoded data removed]",
      "text/plain": [
       "<Figure size 1080x504 with 1 Axes>"
      ]
     },
     "metadata": {
      "needs_background": "light"
     },
     "output_type": "display_data"
    }
   ],
   "source": [
    "import matplotlib.pyplot as plt\n",
    "\n",
    "loss2 = history.history[\"loss\"]\n",
    "\n",
    "plot_comparasion(X, markersizes=[10,12])"
   ]
  },
  {
   "cell_type": "code",
   "execution_count": 144,
   "id": "e958a7e2",
   "metadata": {},
   "outputs": [
    {
     "data": {
      "text/plain": [
       "array([[8.97429743e-07, 3.19172878e+01],\n",
       "       [2.42164919e-08, 1.08963079e+01],\n",
       "       [7.38169614e-09, 9.95465565e+00],\n",
       "       [4.56378046e-09, 1.14202299e+01],\n",
       "       [2.84022739e-09, 1.10149317e+01],\n",
       "       [2.05614481e-09, 1.06656399e+01],\n",
       "       [1.45422629e-09, 1.02059298e+01],\n",
       "       [1.12266918e-09, 1.01176920e+01],\n",
       "       [8.17297896e-10, 1.00563259e+01],\n",
       "       [6.16048712e-10, 1.03238306e+01],\n",
       "       [4.45866427e-10, 1.03285122e+01],\n",
       "       [3.43741285e-10, 1.02537336e+01],\n",
       "       [3.17863846e-10, 1.01189251e+01],\n",
       "       [2.60126615e-10, 9.70363617e+00],\n",
       "       [2.26310914e-10, 9.88004875e+00],\n",
       "       [1.71836309e-10, 9.93776989e+00],\n",
       "       [1.26853208e-10, 1.00882378e+01],\n",
       "       [9.17060039e-11, 1.01726589e+01],\n",
       "       [8.99091288e-11, 1.00656748e+01],\n",
       "       [1.09312559e-10, 9.89349842e+00]])"
      ]
     },
     "execution_count": 144,
     "metadata": {},
     "output_type": "execute_result"
    }
   ],
   "source": [
    "\n"
   ]
  }
 ],
 "metadata": {
  "kernelspec": {
   "display_name": "Python 3",
   "language": "python",
   "name": "python3"
  },
  "language_info": {
   "codemirror_mode": {
    "name": "ipython",
    "version": 3
   },
   "file_extension": ".py",
   "mimetype": "text/x-python",
   "name": "python",
   "nbconvert_exporter": "python",
   "pygments_lexer": "ipython3",
   "version": "3.8.8"
  }
 },
 "nbformat": 4,
 "nbformat_minor": 5
}
